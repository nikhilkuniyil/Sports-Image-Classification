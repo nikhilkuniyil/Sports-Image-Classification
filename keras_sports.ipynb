{
  "nbformat": 4,
  "nbformat_minor": 0,
  "metadata": {
    "colab": {
      "provenance": []
    },
    "kernelspec": {
      "name": "python3",
      "display_name": "Python 3"
    },
    "language_info": {
      "name": "python"
    },
    "gpuClass": "premium"
  },
  "cells": [
    {
      "cell_type": "code",
      "execution_count": 1,
      "metadata": {
        "id": "k4DKsqMmoNXt"
      },
      "outputs": [],
      "source": [
        "import keras\n",
        "from keras import layers, models\n",
        "from keras.preprocessing.image import ImageDataGenerator\n",
        "\n",
        "import pandas as pd\n",
        "import numpy as np\n",
        "import matplotlib.pyplot as plt"
      ]
    },
    {
      "cell_type": "code",
      "source": [
        "num_classes = 100\n",
        "img_height = 224\n",
        "img_width = 224"
      ],
      "metadata": {
        "id": "2WliWHr7Wzaf"
      },
      "execution_count": 2,
      "outputs": []
    },
    {
      "cell_type": "code",
      "source": [
        "train_path = '/content/drive/MyDrive/keras_sport/train'\n",
        "val_path = '/content/drive/MyDrive/keras_sport/valid'\n",
        "test_path = '/content/drive/MyDrive/keras_sport/test'"
      ],
      "metadata": {
        "id": "AKaxJ1DyRpGR"
      },
      "execution_count": 3,
      "outputs": []
    },
    {
      "cell_type": "code",
      "source": [
        "train_datagen = ImageDataGenerator(rescale = 1./255)\n",
        "test_datagen = ImageDataGenerator(rescale = 1./255)"
      ],
      "metadata": {
        "id": "Idh4AI3EWx5p"
      },
      "execution_count": 56,
      "outputs": []
    },
    {
      "cell_type": "code",
      "source": [
        "train_imgs = train_datagen.flow_from_directory(\n",
        "    '/content/drive/MyDrive/keras_sport/train',\n",
        "    target_size=(150,150),\n",
        "    batch_size=64,\n",
        "    class_mode='categorical'\n",
        ")\n",
        "\n",
        "val_imgs = train_datagen.flow_from_directory(\n",
        "    '/content/drive/MyDrive/keras_sport/valid',\n",
        "    target_size=(150,150),\n",
        "    batch_size=64,\n",
        "    class_mode='categorical'\n",
        ")\n",
        "\n",
        "test_imgs = train_datagen.flow_from_directory(\n",
        "    '/content/drive/MyDrive/keras_sport/test',\n",
        "    target_size=(150,150),\n",
        "    batch_size=64,\n",
        "    class_mode='categorical'\n",
        ")"
      ],
      "metadata": {
        "id": "s17BOkVb31yR",
        "colab": {
          "base_uri": "https://localhost:8080/"
        },
        "outputId": "3d79556d-5ced-4d8e-e50e-f591466de337"
      },
      "execution_count": 57,
      "outputs": [
        {
          "output_type": "stream",
          "name": "stdout",
          "text": [
            "Found 13572 images belonging to 100 classes.\n",
            "Found 500 images belonging to 100 classes.\n",
            "Found 500 images belonging to 100 classes.\n"
          ]
        }
      ]
    },
    {
      "cell_type": "code",
      "source": [
        "model = models.Sequential()\n",
        "model.add(layers.Conv2D(64, (3,3), activation='relu', input_shape=(150,150,3)))\n",
        "model.add(layers.MaxPooling2D())\n",
        "model.add(layers.Conv2D(128, (3,3), activation='relu'))\n",
        "model.add(layers.MaxPooling2D())\n",
        "model.add(layers.Conv2D(128, (3,3), activation='relu'))\n",
        "model.add(layers.MaxPooling2D())\n",
        "model.add(layers.Conv2D(256, (3,3), activation='relu'))\n",
        "model.add(layers.MaxPooling2D())\n",
        "model.add(layers.Conv2D(512, (3,3), activation='relu'))\n",
        "model.add(layers.MaxPooling2D())\n",
        "model.add(layers.Flatten())\n",
        "model.add(layers.Dense(512, activation='relu'))\n",
        "model.add(layers.Dense(512, activation='relu'))\n",
        "model.add(layers.Dense(num_classes, activation='softmax'))\n",
        "model.summary()"
      ],
      "metadata": {
        "id": "hZ2qUr5TDYpa",
        "colab": {
          "base_uri": "https://localhost:8080/"
        },
        "outputId": "61eef4ab-c57e-4172-f3ad-bb89591765ac"
      },
      "execution_count": 58,
      "outputs": [
        {
          "output_type": "stream",
          "name": "stdout",
          "text": [
            "Model: \"sequential_6\"\n",
            "_________________________________________________________________\n",
            " Layer (type)                Output Shape              Param #   \n",
            "=================================================================\n",
            " conv2d_30 (Conv2D)          (None, 148, 148, 64)      1792      \n",
            "                                                                 \n",
            " max_pooling2d_30 (MaxPoolin  (None, 74, 74, 64)       0         \n",
            " g2D)                                                            \n",
            "                                                                 \n",
            " conv2d_31 (Conv2D)          (None, 72, 72, 128)       73856     \n",
            "                                                                 \n",
            " max_pooling2d_31 (MaxPoolin  (None, 36, 36, 128)      0         \n",
            " g2D)                                                            \n",
            "                                                                 \n",
            " conv2d_32 (Conv2D)          (None, 34, 34, 128)       147584    \n",
            "                                                                 \n",
            " max_pooling2d_32 (MaxPoolin  (None, 17, 17, 128)      0         \n",
            " g2D)                                                            \n",
            "                                                                 \n",
            " conv2d_33 (Conv2D)          (None, 15, 15, 256)       295168    \n",
            "                                                                 \n",
            " max_pooling2d_33 (MaxPoolin  (None, 7, 7, 256)        0         \n",
            " g2D)                                                            \n",
            "                                                                 \n",
            " conv2d_34 (Conv2D)          (None, 5, 5, 512)         1180160   \n",
            "                                                                 \n",
            " max_pooling2d_34 (MaxPoolin  (None, 2, 2, 512)        0         \n",
            " g2D)                                                            \n",
            "                                                                 \n",
            " flatten_6 (Flatten)         (None, 2048)              0         \n",
            "                                                                 \n",
            " dense_18 (Dense)            (None, 512)               1049088   \n",
            "                                                                 \n",
            " dense_19 (Dense)            (None, 512)               262656    \n",
            "                                                                 \n",
            " dense_20 (Dense)            (None, 100)               51300     \n",
            "                                                                 \n",
            "=================================================================\n",
            "Total params: 3,061,604\n",
            "Trainable params: 3,061,604\n",
            "Non-trainable params: 0\n",
            "_________________________________________________________________\n"
          ]
        }
      ]
    },
    {
      "cell_type": "code",
      "source": [
        "model.compile(loss='categorical_crossentropy', optimizer='adam', metrics=['acc'])"
      ],
      "metadata": {
        "id": "yMyWWyDKHn83"
      },
      "execution_count": 59,
      "outputs": []
    },
    {
      "cell_type": "code",
      "source": [
        "history = model.fit(\n",
        "    train_imgs,\n",
        "    steps_per_epoch=50,\n",
        "    epochs=50,\n",
        "    validation_data=val_imgs,\n",
        ")"
      ],
      "metadata": {
        "id": "bH_Bupv3hepO",
        "colab": {
          "base_uri": "https://localhost:8080/"
        },
        "outputId": "72f23d94-dea5-4b60-d281-f638b61d0f6b"
      },
      "execution_count": 60,
      "outputs": [
        {
          "output_type": "stream",
          "name": "stdout",
          "text": [
            "Epoch 1/50\n",
            "50/50 [==============================] - 11s 218ms/step - loss: 4.5993 - acc: 0.0072 - val_loss: 4.5944 - val_acc: 0.0160\n",
            "Epoch 2/50\n",
            "50/50 [==============================] - 11s 212ms/step - loss: 4.5975 - acc: 0.0134 - val_loss: 4.6192 - val_acc: 0.0100\n",
            "Epoch 3/50\n",
            "50/50 [==============================] - 10s 209ms/step - loss: 4.5688 - acc: 0.0184 - val_loss: 4.5580 - val_acc: 0.0160\n",
            "Epoch 4/50\n",
            "50/50 [==============================] - 11s 213ms/step - loss: 4.5714 - acc: 0.0156 - val_loss: 4.5904 - val_acc: 0.0100\n",
            "Epoch 5/50\n",
            "50/50 [==============================] - 11s 213ms/step - loss: 4.4676 - acc: 0.0234 - val_loss: 4.4446 - val_acc: 0.0180\n",
            "Epoch 6/50\n",
            "50/50 [==============================] - 11s 218ms/step - loss: 4.3895 - acc: 0.0284 - val_loss: 4.3815 - val_acc: 0.0180\n",
            "Epoch 7/50\n",
            "50/50 [==============================] - 11s 212ms/step - loss: 4.3241 - acc: 0.0403 - val_loss: 4.4095 - val_acc: 0.0260\n",
            "Epoch 8/50\n",
            "50/50 [==============================] - 11s 212ms/step - loss: 4.2206 - acc: 0.0456 - val_loss: 4.2246 - val_acc: 0.0420\n",
            "Epoch 9/50\n",
            "50/50 [==============================] - 11s 210ms/step - loss: 4.1171 - acc: 0.0608 - val_loss: 4.1120 - val_acc: 0.0620\n",
            "Epoch 10/50\n",
            "50/50 [==============================] - 11s 210ms/step - loss: 4.0206 - acc: 0.0722 - val_loss: 3.9742 - val_acc: 0.0660\n",
            "Epoch 11/50\n",
            "50/50 [==============================] - 11s 210ms/step - loss: 3.8921 - acc: 0.0884 - val_loss: 3.8177 - val_acc: 0.0920\n",
            "Epoch 12/50\n",
            "50/50 [==============================] - 11s 211ms/step - loss: 3.8137 - acc: 0.0984 - val_loss: 3.7248 - val_acc: 0.1200\n",
            "Epoch 13/50\n",
            "50/50 [==============================] - 11s 212ms/step - loss: 3.6514 - acc: 0.1197 - val_loss: 3.6307 - val_acc: 0.1320\n",
            "Epoch 14/50\n",
            "50/50 [==============================] - 11s 214ms/step - loss: 3.5967 - acc: 0.1334 - val_loss: 3.7261 - val_acc: 0.1100\n",
            "Epoch 15/50\n",
            "50/50 [==============================] - 10s 208ms/step - loss: 3.5173 - acc: 0.1459 - val_loss: 3.5269 - val_acc: 0.1580\n",
            "Epoch 16/50\n",
            "50/50 [==============================] - 11s 213ms/step - loss: 3.4158 - acc: 0.1559 - val_loss: 3.4155 - val_acc: 0.1480\n",
            "Epoch 17/50\n",
            "50/50 [==============================] - 11s 212ms/step - loss: 3.2924 - acc: 0.1775 - val_loss: 3.3306 - val_acc: 0.1860\n",
            "Epoch 18/50\n",
            "50/50 [==============================] - 11s 229ms/step - loss: 3.2665 - acc: 0.1912 - val_loss: 3.3400 - val_acc: 0.1700\n",
            "Epoch 19/50\n",
            "50/50 [==============================] - 11s 212ms/step - loss: 3.1648 - acc: 0.2035 - val_loss: 3.2835 - val_acc: 0.1500\n",
            "Epoch 20/50\n",
            "50/50 [==============================] - 11s 211ms/step - loss: 3.0508 - acc: 0.2397 - val_loss: 3.1420 - val_acc: 0.2020\n",
            "Epoch 21/50\n",
            "50/50 [==============================] - 11s 211ms/step - loss: 2.9531 - acc: 0.2419 - val_loss: 3.0789 - val_acc: 0.2280\n",
            "Epoch 22/50\n",
            "50/50 [==============================] - 11s 209ms/step - loss: 2.8437 - acc: 0.2787 - val_loss: 3.3419 - val_acc: 0.2040\n",
            "Epoch 23/50\n",
            "50/50 [==============================] - 11s 214ms/step - loss: 2.8157 - acc: 0.2806 - val_loss: 3.0658 - val_acc: 0.2180\n",
            "Epoch 24/50\n",
            "50/50 [==============================] - 11s 210ms/step - loss: 2.6450 - acc: 0.3203 - val_loss: 3.0331 - val_acc: 0.2200\n",
            "Epoch 25/50\n",
            "50/50 [==============================] - 10s 209ms/step - loss: 2.6101 - acc: 0.3209 - val_loss: 2.9859 - val_acc: 0.2420\n",
            "Epoch 26/50\n",
            "50/50 [==============================] - 11s 209ms/step - loss: 2.4584 - acc: 0.3531 - val_loss: 2.8395 - val_acc: 0.2960\n",
            "Epoch 27/50\n",
            "50/50 [==============================] - 10s 209ms/step - loss: 2.3948 - acc: 0.3659 - val_loss: 2.7769 - val_acc: 0.2580\n",
            "Epoch 28/50\n",
            "50/50 [==============================] - 11s 210ms/step - loss: 2.2691 - acc: 0.4072 - val_loss: 2.8193 - val_acc: 0.3080\n",
            "Epoch 29/50\n",
            "50/50 [==============================] - 11s 210ms/step - loss: 2.1841 - acc: 0.4250 - val_loss: 2.7922 - val_acc: 0.2940\n",
            "Epoch 30/50\n",
            "50/50 [==============================] - 10s 207ms/step - loss: 2.1216 - acc: 0.4162 - val_loss: 2.7910 - val_acc: 0.2900\n",
            "Epoch 31/50\n",
            "50/50 [==============================] - 11s 211ms/step - loss: 2.0482 - acc: 0.4475 - val_loss: 2.7231 - val_acc: 0.3160\n",
            "Epoch 32/50\n",
            "50/50 [==============================] - 11s 212ms/step - loss: 1.9342 - acc: 0.4797 - val_loss: 2.8337 - val_acc: 0.3000\n",
            "Epoch 33/50\n",
            "50/50 [==============================] - 11s 211ms/step - loss: 1.8595 - acc: 0.4944 - val_loss: 2.7410 - val_acc: 0.3440\n",
            "Epoch 34/50\n",
            "50/50 [==============================] - 11s 211ms/step - loss: 1.7700 - acc: 0.5231 - val_loss: 2.8199 - val_acc: 0.3260\n",
            "Epoch 35/50\n",
            "50/50 [==============================] - 10s 209ms/step - loss: 1.7453 - acc: 0.5259 - val_loss: 2.9548 - val_acc: 0.3020\n",
            "Epoch 36/50\n",
            "50/50 [==============================] - 11s 222ms/step - loss: 1.5921 - acc: 0.5600 - val_loss: 2.9560 - val_acc: 0.3260\n",
            "Epoch 37/50\n",
            "50/50 [==============================] - 11s 211ms/step - loss: 1.6032 - acc: 0.5608 - val_loss: 3.0410 - val_acc: 0.3140\n",
            "Epoch 38/50\n",
            "50/50 [==============================] - 10s 207ms/step - loss: 1.4536 - acc: 0.5930 - val_loss: 2.8656 - val_acc: 0.3460\n",
            "Epoch 39/50\n",
            "50/50 [==============================] - 11s 212ms/step - loss: 1.4392 - acc: 0.5962 - val_loss: 3.0411 - val_acc: 0.3220\n",
            "Epoch 40/50\n",
            "50/50 [==============================] - 11s 212ms/step - loss: 1.2719 - acc: 0.6566 - val_loss: 3.1286 - val_acc: 0.3260\n",
            "Epoch 41/50\n",
            "50/50 [==============================] - 11s 211ms/step - loss: 1.1822 - acc: 0.6712 - val_loss: 2.9003 - val_acc: 0.3360\n",
            "Epoch 42/50\n",
            "50/50 [==============================] - 11s 212ms/step - loss: 1.1250 - acc: 0.6903 - val_loss: 3.1685 - val_acc: 0.3360\n",
            "Epoch 43/50\n",
            "50/50 [==============================] - 10s 208ms/step - loss: 1.1718 - acc: 0.6729 - val_loss: 3.0184 - val_acc: 0.3280\n",
            "Epoch 44/50\n",
            "50/50 [==============================] - 11s 209ms/step - loss: 1.1533 - acc: 0.6889 - val_loss: 2.8967 - val_acc: 0.3300\n",
            "Epoch 45/50\n",
            "50/50 [==============================] - 11s 209ms/step - loss: 1.0469 - acc: 0.7019 - val_loss: 3.1847 - val_acc: 0.3380\n",
            "Epoch 46/50\n",
            "50/50 [==============================] - 11s 210ms/step - loss: 0.9122 - acc: 0.7466 - val_loss: 3.0336 - val_acc: 0.3540\n",
            "Epoch 47/50\n",
            "50/50 [==============================] - 10s 207ms/step - loss: 0.8359 - acc: 0.7688 - val_loss: 3.3144 - val_acc: 0.3800\n",
            "Epoch 48/50\n",
            "50/50 [==============================] - 11s 211ms/step - loss: 0.8194 - acc: 0.7722 - val_loss: 3.3253 - val_acc: 0.3680\n",
            "Epoch 49/50\n",
            "50/50 [==============================] - 10s 208ms/step - loss: 0.7595 - acc: 0.7793 - val_loss: 3.7904 - val_acc: 0.3240\n",
            "Epoch 50/50\n",
            "50/50 [==============================] - 11s 210ms/step - loss: 0.9045 - acc: 0.7450 - val_loss: 3.2227 - val_acc: 0.3540\n"
          ]
        }
      ]
    },
    {
      "cell_type": "code",
      "source": [
        "acc = history.history['acc']\n",
        "val_acc = history.history['val_acc']\n",
        "loss = history.history['loss']\n",
        "val_loss = history.history['val_loss']\n",
        "\n",
        "epochs = range(1, len(acc) + 1)\n",
        "\n",
        "plt.plot(epochs, acc, 'bo', label='Training Accuracy')\n",
        "plt.plot(epochs, val_acc, 'b', label='Validation Accuracy')\n",
        "plt.xlabel('epochs')\n",
        "plt.ylabel('accuracy')\n",
        "plt.title('Training and Validation Accuracy')\n",
        "plt.legend()\n",
        "\n",
        "plt.figure()\n",
        "\n",
        "plt.plot(epochs, loss, 'bo', label='Training Loss')\n",
        "plt.plot(epochs, val_loss, 'b', label='Validation Loss')\n",
        "plt.xlabel('epochs')\n",
        "plt.ylabel('loss')\n",
        "plt.title('Training and Validation Loss')\n",
        "plt.legend()\n",
        "\n",
        "plt.show()"
      ],
      "metadata": {
        "id": "8PlBf67LJGSA",
        "colab": {
          "base_uri": "https://localhost:8080/",
          "height": 573
        },
        "outputId": "8f50bf38-d8df-4793-ddcc-d22abdd2fd2a"
      },
      "execution_count": 61,
      "outputs": [
        {
          "output_type": "display_data",
          "data": {
            "text/plain": [
              "<Figure size 432x288 with 1 Axes>"
            ],
            "image/png": "[encoded data removed]"
          },
          "metadata": {
            "needs_background": "light"
          }
        },
        {
          "output_type": "display_data",
          "data": {
            "text/plain": [
              "<Figure size 432x288 with 1 Axes>"
            ],
            "image/png": "[encoded data removed]"
          },
          "metadata": {
            "needs_background": "light"
          }
        }
      ]
    },
    {
      "cell_type": "markdown",
      "source": [
        "# Data Augmentation"
      ],
      "metadata": {
        "id": "UuOmVMON8V24"
      }
    },
    {
      "cell_type": "code",
      "source": [
        "train_gen = ImageDataGenerator(\n",
        "    rescale=1./255,\n",
        "    rotation_range=40,\n",
        "    width_shift_range=0.2,\n",
        "    height_shift_range=0.2,\n",
        "    shear_range=0.2,\n",
        "    zoom_range=0.2,\n",
        "    horizontal_flip=True,\n",
        ")\n",
        "\n",
        "test_gen = ImageDataGenerator(rescale=1./255)\n",
        "\n",
        "train = train_gen.flow_from_directory(\n",
        "    '/content/drive/MyDrive/keras_sport/train',\n",
        "    target_size=(150,150),\n",
        "    batch_size=64,\n",
        "    class_mode='categorical'\n",
        ")\n",
        "\n",
        "test = test_gen.flow_from_directory(\n",
        "    '/content/drive/MyDrive/keras_sport/test',\n",
        "    target_size=(150,150),\n",
        "    batch_size=64,\n",
        "    class_mode='categorical'\n",
        ")\n",
        "\n",
        "validation = test_gen.flow_from_directory(\n",
        "    '/content/drive/MyDrive/keras_sport/valid',\n",
        "    target_size=(150,150),\n",
        "    batch_size=64,\n",
        "    class_mode='categorical'\n",
        ")"
      ],
      "metadata": {
        "colab": {
          "base_uri": "https://localhost:8080/"
        },
        "id": "pDsta12P8Y-j",
        "outputId": "f5277413-d94f-4e30-e0d7-b8d5b4e2918d"
      },
      "execution_count": 69,
      "outputs": [
        {
          "output_type": "stream",
          "name": "stdout",
          "text": [
            "Found 13572 images belonging to 100 classes.\n",
            "Found 500 images belonging to 100 classes.\n",
            "Found 500 images belonging to 100 classes.\n"
          ]
        }
      ]
    },
    {
      "cell_type": "code",
      "source": [
        "model = models.Sequential()\n",
        "model.add(layers.Conv2D(64, (3,3), activation='relu', input_shape=(150,150,3)))\n",
        "model.add(layers.MaxPooling2D())\n",
        "model.add(layers.Conv2D(128, (3,3), activation='relu'))\n",
        "model.add(layers.MaxPooling2D())\n",
        "model.add(layers.Conv2D(128, (3,3), activation='relu'))\n",
        "model.add(layers.MaxPooling2D())\n",
        "model.add(layers.Conv2D(256, (3,3), activation='relu'))\n",
        "model.add(layers.MaxPooling2D())\n",
        "model.add(layers.Conv2D(512, (3,3), activation='relu'))\n",
        "model.add(layers.MaxPooling2D())\n",
        "model.add(layers.Flatten())\n",
        "model.add(layers.Dropout(0.5))\n",
        "model.add(layers.Dense(512, activation='relu'))\n",
        "model.add(layers.Dense(512, activation='relu'))\n",
        "model.add(layers.Dense(num_classes, activation='softmax'))\n",
        "model.summary()"
      ],
      "metadata": {
        "colab": {
          "base_uri": "https://localhost:8080/"
        },
        "id": "kFLioGHw_uAz",
        "outputId": "cac9324f-e7b7-4793-d7bc-9f74eebda186"
      },
      "execution_count": 70,
      "outputs": [
        {
          "output_type": "stream",
          "name": "stdout",
          "text": [
            "Model: \"sequential_9\"\n",
            "_________________________________________________________________\n",
            " Layer (type)                Output Shape              Param #   \n",
            "=================================================================\n",
            " conv2d_46 (Conv2D)          (None, 148, 148, 64)      1792      \n",
            "                                                                 \n",
            " max_pooling2d_45 (MaxPoolin  (None, 74, 74, 64)       0         \n",
            " g2D)                                                            \n",
            "                                                                 \n",
            " conv2d_47 (Conv2D)          (None, 72, 72, 128)       73856     \n",
            "                                                                 \n",
            " max_pooling2d_46 (MaxPoolin  (None, 36, 36, 128)      0         \n",
            " g2D)                                                            \n",
            "                                                                 \n",
            " conv2d_48 (Conv2D)          (None, 34, 34, 128)       147584    \n",
            "                                                                 \n",
            " max_pooling2d_47 (MaxPoolin  (None, 17, 17, 128)      0         \n",
            " g2D)                                                            \n",
            "                                                                 \n",
            " conv2d_49 (Conv2D)          (None, 15, 15, 256)       295168    \n",
            "                                                                 \n",
            " max_pooling2d_48 (MaxPoolin  (None, 7, 7, 256)        0         \n",
            " g2D)                                                            \n",
            "                                                                 \n",
            " conv2d_50 (Conv2D)          (None, 5, 5, 512)         1180160   \n",
            "                                                                 \n",
            " max_pooling2d_49 (MaxPoolin  (None, 2, 2, 512)        0         \n",
            " g2D)                                                            \n",
            "                                                                 \n",
            " flatten_8 (Flatten)         (None, 2048)              0         \n",
            "                                                                 \n",
            " dropout_1 (Dropout)         (None, 2048)              0         \n",
            "                                                                 \n",
            " dense_24 (Dense)            (None, 512)               1049088   \n",
            "                                                                 \n",
            " dense_25 (Dense)            (None, 512)               262656    \n",
            "                                                                 \n",
            " dense_26 (Dense)            (None, 100)               51300     \n",
            "                                                                 \n",
            "=================================================================\n",
            "Total params: 3,061,604\n",
            "Trainable params: 3,061,604\n",
            "Non-trainable params: 0\n",
            "_________________________________________________________________\n"
          ]
        }
      ]
    },
    {
      "cell_type": "code",
      "source": [
        "model.compile(loss='categorical_crossentropy', optimizer='adam', metrics=['acc'])"
      ],
      "metadata": {
        "id": "Pn0JFM9DAlEQ"
      },
      "execution_count": 71,
      "outputs": []
    },
    {
      "cell_type": "code",
      "source": [
        "history = model.fit(\n",
        "    train,\n",
        "    steps_per_epoch=75,\n",
        "    epochs=100,\n",
        "    validation_data=validation,\n",
        ")"
      ],
      "metadata": {
        "colab": {
          "base_uri": "https://localhost:8080/"
        },
        "id": "1OCe1lP7A7BX",
        "outputId": "6ffa8172-4379-41ff-e6e6-3ab240a268f4"
      },
      "execution_count": 72,
      "outputs": [
        {
          "output_type": "stream",
          "name": "stdout",
          "text": [
            "Epoch 1/100\n",
            "75/75 [==============================] - 37s 479ms/step - loss: 4.5869 - acc: 0.0116 - val_loss: 4.5599 - val_acc: 0.0100\n",
            "Epoch 2/100\n",
            "75/75 [==============================] - 37s 488ms/step - loss: 4.5346 - acc: 0.0194 - val_loss: 4.5204 - val_acc: 0.0180\n",
            "Epoch 3/100\n",
            "75/75 [==============================] - 35s 471ms/step - loss: 4.4781 - acc: 0.0224 - val_loss: 4.4605 - val_acc: 0.0180\n",
            "Epoch 4/100\n",
            "75/75 [==============================] - 36s 477ms/step - loss: 4.3924 - acc: 0.0290 - val_loss: 4.3589 - val_acc: 0.0220\n",
            "Epoch 5/100\n",
            "75/75 [==============================] - 37s 489ms/step - loss: 4.3474 - acc: 0.0379 - val_loss: 4.3013 - val_acc: 0.0380\n",
            "Epoch 6/100\n",
            "75/75 [==============================] - 36s 478ms/step - loss: 4.3022 - acc: 0.0360 - val_loss: 4.2544 - val_acc: 0.0280\n",
            "Epoch 7/100\n",
            "75/75 [==============================] - 36s 476ms/step - loss: 4.2593 - acc: 0.0437 - val_loss: 4.2366 - val_acc: 0.0400\n",
            "Epoch 8/100\n",
            "75/75 [==============================] - 37s 494ms/step - loss: 4.1967 - acc: 0.0515 - val_loss: 4.1264 - val_acc: 0.0560\n",
            "Epoch 9/100\n",
            "75/75 [==============================] - 35s 471ms/step - loss: 4.1012 - acc: 0.0633 - val_loss: 4.0691 - val_acc: 0.0620\n",
            "Epoch 10/100\n",
            "75/75 [==============================] - 36s 477ms/step - loss: 4.0185 - acc: 0.0677 - val_loss: 4.0985 - val_acc: 0.0520\n",
            "Epoch 11/100\n",
            "75/75 [==============================] - 37s 492ms/step - loss: 3.9220 - acc: 0.0750 - val_loss: 3.7695 - val_acc: 0.0840\n",
            "Epoch 12/100\n",
            "75/75 [==============================] - 36s 476ms/step - loss: 3.8088 - acc: 0.0935 - val_loss: 3.8032 - val_acc: 0.0800\n",
            "Epoch 13/100\n",
            "75/75 [==============================] - 36s 474ms/step - loss: 3.7507 - acc: 0.0929 - val_loss: 3.5428 - val_acc: 0.1060\n",
            "Epoch 14/100\n",
            "75/75 [==============================] - 36s 475ms/step - loss: 3.6670 - acc: 0.1167 - val_loss: 3.9396 - val_acc: 0.1080\n",
            "Epoch 15/100\n",
            "75/75 [==============================] - 36s 476ms/step - loss: 3.5981 - acc: 0.1273 - val_loss: 3.4393 - val_acc: 0.1660\n",
            "Epoch 16/100\n",
            "75/75 [==============================] - 36s 480ms/step - loss: 3.5720 - acc: 0.1265 - val_loss: 3.3576 - val_acc: 0.1440\n",
            "Epoch 17/100\n",
            "75/75 [==============================] - 36s 476ms/step - loss: 3.5175 - acc: 0.1329 - val_loss: 3.5806 - val_acc: 0.1520\n",
            "Epoch 18/100\n",
            "75/75 [==============================] - 37s 494ms/step - loss: 3.4861 - acc: 0.1429 - val_loss: 3.3148 - val_acc: 0.1660\n",
            "Epoch 19/100\n",
            "75/75 [==============================] - 36s 473ms/step - loss: 3.4424 - acc: 0.1504 - val_loss: 3.3184 - val_acc: 0.1520\n",
            "Epoch 20/100\n",
            "75/75 [==============================] - 36s 475ms/step - loss: 3.3833 - acc: 0.1606 - val_loss: 3.1931 - val_acc: 0.1900\n",
            "Epoch 21/100\n",
            "75/75 [==============================] - 37s 492ms/step - loss: 3.3165 - acc: 0.1725 - val_loss: 3.3450 - val_acc: 0.1760\n",
            "Epoch 22/100\n",
            "75/75 [==============================] - 36s 475ms/step - loss: 3.3193 - acc: 0.1660 - val_loss: 3.0954 - val_acc: 0.2060\n",
            "Epoch 23/100\n",
            "75/75 [==============================] - 35s 471ms/step - loss: 3.2759 - acc: 0.1808 - val_loss: 3.1516 - val_acc: 0.2120\n",
            "Epoch 24/100\n",
            "75/75 [==============================] - 37s 491ms/step - loss: 3.2615 - acc: 0.1840 - val_loss: 3.0958 - val_acc: 0.1900\n",
            "Epoch 25/100\n",
            "75/75 [==============================] - 36s 475ms/step - loss: 3.1943 - acc: 0.1856 - val_loss: 2.9790 - val_acc: 0.2620\n",
            "Epoch 26/100\n",
            "75/75 [==============================] - 35s 469ms/step - loss: 3.1594 - acc: 0.2023 - val_loss: 3.0982 - val_acc: 0.2040\n",
            "Epoch 27/100\n",
            "75/75 [==============================] - 37s 491ms/step - loss: 3.1778 - acc: 0.1944 - val_loss: 2.9616 - val_acc: 0.2360\n",
            "Epoch 28/100\n",
            "75/75 [==============================] - 35s 469ms/step - loss: 3.1612 - acc: 0.1930 - val_loss: 2.9110 - val_acc: 0.2440\n",
            "Epoch 29/100\n",
            "75/75 [==============================] - 36s 476ms/step - loss: 3.1023 - acc: 0.2181 - val_loss: 3.0592 - val_acc: 0.2340\n",
            "Epoch 30/100\n",
            "75/75 [==============================] - 37s 489ms/step - loss: 3.0920 - acc: 0.2131 - val_loss: 2.7792 - val_acc: 0.2780\n",
            "Epoch 31/100\n",
            "75/75 [==============================] - 36s 473ms/step - loss: 3.0500 - acc: 0.2169 - val_loss: 3.0362 - val_acc: 0.2320\n",
            "Epoch 32/100\n",
            "75/75 [==============================] - 36s 476ms/step - loss: 3.0112 - acc: 0.2306 - val_loss: 2.9768 - val_acc: 0.2540\n",
            "Epoch 33/100\n",
            "75/75 [==============================] - 37s 489ms/step - loss: 2.9983 - acc: 0.2329 - val_loss: 2.8260 - val_acc: 0.2540\n",
            "Epoch 34/100\n",
            "75/75 [==============================] - 36s 476ms/step - loss: 3.0208 - acc: 0.2248 - val_loss: 2.8560 - val_acc: 0.2440\n",
            "Epoch 35/100\n",
            "75/75 [==============================] - 36s 474ms/step - loss: 2.9572 - acc: 0.2414 - val_loss: 2.7846 - val_acc: 0.2800\n",
            "Epoch 36/100\n",
            "75/75 [==============================] - 36s 474ms/step - loss: 2.9502 - acc: 0.2492 - val_loss: 2.6862 - val_acc: 0.2960\n",
            "Epoch 37/100\n",
            "75/75 [==============================] - 37s 487ms/step - loss: 2.9136 - acc: 0.2562 - val_loss: 3.1461 - val_acc: 0.2380\n",
            "Epoch 38/100\n",
            "75/75 [==============================] - 36s 476ms/step - loss: 2.8982 - acc: 0.2537 - val_loss: 2.7222 - val_acc: 0.3020\n",
            "Epoch 39/100\n",
            "75/75 [==============================] - 36s 475ms/step - loss: 2.9094 - acc: 0.2465 - val_loss: 2.6161 - val_acc: 0.3060\n",
            "Epoch 40/100\n",
            "75/75 [==============================] - 36s 485ms/step - loss: 2.8378 - acc: 0.2646 - val_loss: 2.6609 - val_acc: 0.3100\n",
            "Epoch 41/100\n",
            "75/75 [==============================] - 36s 473ms/step - loss: 2.8178 - acc: 0.2616 - val_loss: 2.6389 - val_acc: 0.3160\n",
            "Epoch 42/100\n",
            "75/75 [==============================] - 35s 470ms/step - loss: 2.9052 - acc: 0.2574 - val_loss: 2.5830 - val_acc: 0.3100\n",
            "Epoch 43/100\n",
            "75/75 [==============================] - 36s 483ms/step - loss: 2.8090 - acc: 0.2679 - val_loss: 2.5147 - val_acc: 0.3300\n",
            "Epoch 44/100\n",
            "75/75 [==============================] - 36s 474ms/step - loss: 2.8468 - acc: 0.2654 - val_loss: 2.5546 - val_acc: 0.3240\n",
            "Epoch 45/100\n",
            "75/75 [==============================] - 35s 468ms/step - loss: 2.8548 - acc: 0.2646 - val_loss: 2.6162 - val_acc: 0.3020\n",
            "Epoch 46/100\n",
            "75/75 [==============================] - 36s 472ms/step - loss: 2.8206 - acc: 0.2679 - val_loss: 2.5091 - val_acc: 0.3620\n",
            "Epoch 47/100\n",
            "75/75 [==============================] - 36s 476ms/step - loss: 2.7953 - acc: 0.2810 - val_loss: 2.5094 - val_acc: 0.3300\n",
            "Epoch 48/100\n",
            "75/75 [==============================] - 36s 475ms/step - loss: 2.7270 - acc: 0.2909 - val_loss: 2.6500 - val_acc: 0.2980\n",
            "Epoch 49/100\n",
            "75/75 [==============================] - 36s 479ms/step - loss: 2.7400 - acc: 0.2804 - val_loss: 2.5050 - val_acc: 0.3320\n",
            "Epoch 50/100\n",
            "75/75 [==============================] - 36s 474ms/step - loss: 2.7337 - acc: 0.2860 - val_loss: 2.5401 - val_acc: 0.3340\n",
            "Epoch 51/100\n",
            "75/75 [==============================] - 35s 469ms/step - loss: 2.7044 - acc: 0.2962 - val_loss: 2.3676 - val_acc: 0.3720\n",
            "Epoch 52/100\n",
            "75/75 [==============================] - 36s 476ms/step - loss: 2.6863 - acc: 0.2942 - val_loss: 2.4354 - val_acc: 0.3320\n",
            "Epoch 53/100\n",
            "75/75 [==============================] - 38s 501ms/step - loss: 2.6817 - acc: 0.2896 - val_loss: 2.3723 - val_acc: 0.3640\n",
            "Epoch 54/100\n",
            "75/75 [==============================] - 37s 492ms/step - loss: 2.6481 - acc: 0.3054 - val_loss: 2.4684 - val_acc: 0.3540\n",
            "Epoch 55/100\n",
            "75/75 [==============================] - 36s 479ms/step - loss: 2.6758 - acc: 0.3008 - val_loss: 2.4340 - val_acc: 0.3580\n",
            "Epoch 56/100\n",
            "75/75 [==============================] - 37s 495ms/step - loss: 2.6514 - acc: 0.3069 - val_loss: 2.4192 - val_acc: 0.3540\n",
            "Epoch 57/100\n",
            "75/75 [==============================] - 36s 477ms/step - loss: 2.6135 - acc: 0.3158 - val_loss: 2.3764 - val_acc: 0.3720\n",
            "Epoch 58/100\n",
            "75/75 [==============================] - 35s 472ms/step - loss: 2.6296 - acc: 0.3072 - val_loss: 2.3636 - val_acc: 0.3860\n",
            "Epoch 59/100\n",
            "75/75 [==============================] - 36s 475ms/step - loss: 2.6157 - acc: 0.3092 - val_loss: 2.3361 - val_acc: 0.3780\n",
            "Epoch 60/100\n",
            "75/75 [==============================] - 37s 489ms/step - loss: 2.5771 - acc: 0.3190 - val_loss: 2.4251 - val_acc: 0.3820\n",
            "Epoch 61/100\n",
            "75/75 [==============================] - 36s 479ms/step - loss: 2.6143 - acc: 0.3185 - val_loss: 2.4900 - val_acc: 0.3360\n",
            "Epoch 62/100\n",
            "75/75 [==============================] - 35s 469ms/step - loss: 2.5712 - acc: 0.3253 - val_loss: 2.3620 - val_acc: 0.3620\n",
            "Epoch 63/100\n",
            "75/75 [==============================] - 37s 487ms/step - loss: 2.5473 - acc: 0.3333 - val_loss: 2.5134 - val_acc: 0.3720\n",
            "Epoch 64/100\n",
            "75/75 [==============================] - 36s 484ms/step - loss: 2.5238 - acc: 0.3254 - val_loss: 2.5416 - val_acc: 0.3520\n",
            "Epoch 65/100\n",
            "75/75 [==============================] - 36s 478ms/step - loss: 2.5451 - acc: 0.3313 - val_loss: 2.4667 - val_acc: 0.3640\n",
            "Epoch 66/100\n",
            "75/75 [==============================] - 37s 488ms/step - loss: 2.5105 - acc: 0.3431 - val_loss: 2.1992 - val_acc: 0.4040\n",
            "Epoch 67/100\n",
            "75/75 [==============================] - 36s 473ms/step - loss: 2.5599 - acc: 0.3392 - val_loss: 2.4792 - val_acc: 0.3880\n",
            "Epoch 68/100\n",
            "75/75 [==============================] - 36s 474ms/step - loss: 2.5355 - acc: 0.3310 - val_loss: 2.3052 - val_acc: 0.3740\n",
            "Epoch 69/100\n",
            "75/75 [==============================] - 36s 474ms/step - loss: 2.4933 - acc: 0.3404 - val_loss: 2.2922 - val_acc: 0.3860\n",
            "Epoch 70/100\n",
            "75/75 [==============================] - 36s 486ms/step - loss: 2.4858 - acc: 0.3456 - val_loss: 2.2151 - val_acc: 0.4000\n",
            "Epoch 71/100\n",
            "75/75 [==============================] - 35s 470ms/step - loss: 2.4395 - acc: 0.3595 - val_loss: 2.3199 - val_acc: 0.3920\n",
            "Epoch 72/100\n",
            "75/75 [==============================] - 36s 480ms/step - loss: 2.4718 - acc: 0.3465 - val_loss: 2.4234 - val_acc: 0.3900\n",
            "Epoch 73/100\n",
            "75/75 [==============================] - 37s 487ms/step - loss: 2.4830 - acc: 0.3435 - val_loss: 2.2124 - val_acc: 0.4120\n",
            "Epoch 74/100\n",
            "75/75 [==============================] - 36s 478ms/step - loss: 2.4395 - acc: 0.3442 - val_loss: 2.2293 - val_acc: 0.4040\n",
            "Epoch 75/100\n",
            "75/75 [==============================] - 36s 474ms/step - loss: 2.4097 - acc: 0.3525 - val_loss: 2.3505 - val_acc: 0.3940\n",
            "Epoch 76/100\n",
            "75/75 [==============================] - 36s 482ms/step - loss: 2.4276 - acc: 0.3458 - val_loss: 2.2678 - val_acc: 0.4280\n",
            "Epoch 77/100\n",
            "75/75 [==============================] - 36s 475ms/step - loss: 2.4578 - acc: 0.3573 - val_loss: 2.3816 - val_acc: 0.3900\n",
            "Epoch 78/100\n",
            "75/75 [==============================] - 35s 472ms/step - loss: 2.4225 - acc: 0.3465 - val_loss: 2.3201 - val_acc: 0.4080\n",
            "Epoch 79/100\n",
            "75/75 [==============================] - 37s 487ms/step - loss: 2.3149 - acc: 0.3844 - val_loss: 2.4367 - val_acc: 0.3740\n",
            "Epoch 80/100\n",
            "75/75 [==============================] - 36s 480ms/step - loss: 2.3930 - acc: 0.3558 - val_loss: 2.4078 - val_acc: 0.3820\n",
            "Epoch 81/100\n",
            "75/75 [==============================] - 35s 469ms/step - loss: 2.3712 - acc: 0.3791 - val_loss: 2.2298 - val_acc: 0.4300\n",
            "Epoch 82/100\n",
            "75/75 [==============================] - 36s 474ms/step - loss: 2.3676 - acc: 0.3700 - val_loss: 2.2292 - val_acc: 0.4100\n",
            "Epoch 83/100\n",
            "75/75 [==============================] - 36s 477ms/step - loss: 2.3697 - acc: 0.3658 - val_loss: 2.1862 - val_acc: 0.4280\n",
            "Epoch 84/100\n",
            "75/75 [==============================] - 36s 473ms/step - loss: 2.3001 - acc: 0.3812 - val_loss: 2.0565 - val_acc: 0.4560\n",
            "Epoch 85/100\n",
            "75/75 [==============================] - 36s 477ms/step - loss: 2.3018 - acc: 0.3754 - val_loss: 2.0995 - val_acc: 0.4280\n",
            "Epoch 86/100\n",
            "75/75 [==============================] - 36s 486ms/step - loss: 2.3136 - acc: 0.3748 - val_loss: 2.0766 - val_acc: 0.4500\n",
            "Epoch 87/100\n",
            "75/75 [==============================] - 35s 470ms/step - loss: 2.3592 - acc: 0.3764 - val_loss: 2.1640 - val_acc: 0.4120\n",
            "Epoch 88/100\n",
            "75/75 [==============================] - 36s 478ms/step - loss: 2.3566 - acc: 0.3646 - val_loss: 2.1011 - val_acc: 0.4420\n",
            "Epoch 89/100\n",
            "75/75 [==============================] - 37s 486ms/step - loss: 2.2751 - acc: 0.3827 - val_loss: 2.2121 - val_acc: 0.4320\n",
            "Epoch 90/100\n",
            "75/75 [==============================] - 35s 467ms/step - loss: 2.3542 - acc: 0.3709 - val_loss: 2.1271 - val_acc: 0.4580\n",
            "Epoch 91/100\n",
            "75/75 [==============================] - 36s 475ms/step - loss: 2.3018 - acc: 0.3823 - val_loss: 2.2230 - val_acc: 0.4220\n",
            "Epoch 92/100\n",
            "75/75 [==============================] - 37s 486ms/step - loss: 2.3023 - acc: 0.3800 - val_loss: 2.1414 - val_acc: 0.4500\n",
            "Epoch 93/100\n",
            "75/75 [==============================] - 36s 473ms/step - loss: 2.2635 - acc: 0.3994 - val_loss: 2.2641 - val_acc: 0.4480\n",
            "Epoch 94/100\n",
            "75/75 [==============================] - 36s 477ms/step - loss: 2.2296 - acc: 0.3954 - val_loss: 2.1120 - val_acc: 0.4460\n",
            "Epoch 95/100\n",
            "75/75 [==============================] - 36s 484ms/step - loss: 2.2586 - acc: 0.3898 - val_loss: 2.2667 - val_acc: 0.4080\n",
            "Epoch 96/100\n",
            "75/75 [==============================] - 36s 476ms/step - loss: 2.2693 - acc: 0.3823 - val_loss: 2.0515 - val_acc: 0.4600\n",
            "Epoch 97/100\n",
            "75/75 [==============================] - 36s 475ms/step - loss: 2.2511 - acc: 0.3887 - val_loss: 2.2484 - val_acc: 0.4320\n",
            "Epoch 98/100\n",
            "75/75 [==============================] - 35s 467ms/step - loss: 2.2658 - acc: 0.3909 - val_loss: 2.1328 - val_acc: 0.4400\n",
            "Epoch 99/100\n",
            "75/75 [==============================] - 36s 486ms/step - loss: 2.2545 - acc: 0.3918 - val_loss: 2.1182 - val_acc: 0.4600\n",
            "Epoch 100/100\n",
            "75/75 [==============================] - 36s 473ms/step - loss: 2.2309 - acc: 0.4002 - val_loss: 2.2686 - val_acc: 0.4140\n"
          ]
        }
      ]
    },
    {
      "cell_type": "code",
      "source": [
        "acc = history.history['acc']\n",
        "val_acc = history.history['val_acc']\n",
        "loss = history.history['loss']\n",
        "val_loss = history.history['val_loss']\n",
        "\n",
        "epochs = range(1, len(acc) + 1)\n",
        "\n",
        "plt.plot(epochs, acc, 'bo', label='Training Accuracy')\n",
        "plt.plot(epochs, val_acc, 'b', label='Validation Accuracy')\n",
        "plt.xlabel('epochs')\n",
        "plt.ylabel('accuracy')\n",
        "plt.title('Training and Validation Accuracy')\n",
        "plt.legend()\n",
        "\n",
        "plt.figure()\n",
        "\n",
        "plt.plot(epochs, loss, 'bo', label='Training Loss')\n",
        "plt.plot(epochs, val_loss, 'b', label='Validation Loss')\n",
        "plt.xlabel('epochs')\n",
        "plt.ylabel('loss')\n",
        "plt.title('Training and Validation Loss')\n",
        "plt.legend()\n",
        "\n",
        "plt.show()"
      ],
      "metadata": {
        "colab": {
          "base_uri": "https://localhost:8080/",
          "height": 573
        },
        "id": "0oIqeBalBfGV",
        "outputId": "9461e81f-a15c-4c0e-86c1-80cc59a1acd9"
      },
      "execution_count": 73,
      "outputs": [
        {
          "output_type": "display_data",
          "data": {
            "text/plain": [
              "<Figure size 432x288 with 1 Axes>"
            ],
            "image/png": "[encoded data removed]"
          },
          "metadata": {
            "needs_background": "light"
          }
        },
        {
          "output_type": "display_data",
          "data": {
            "text/plain": [
              "<Figure size 432x288 with 1 Axes>"
            ],
            "image/png": "[encoded data removed]"
          },
          "metadata": {
            "needs_background": "light"
          }
        }
      ]
    },
    {
      "cell_type": "markdown",
      "source": [
        "As shown, the overfitting reduced, however it was very difficult to train the model. As shown, it only reached ~40% accuracy with the data augmentation  despite reaching ~74% without it. The validation accuracy improved significantly, and improved quicker than that of the training accuracy."
      ],
      "metadata": {
        "id": "uXGjCoQfXZ5f"
      }
    },
    {
      "cell_type": "markdown",
      "source": [
        "Due to the lack of data it would be cumbersome to effectively train a CNN from scratch."
      ],
      "metadata": {
        "id": "3wdCYBCBP1G3"
      }
    },
    {
      "cell_type": "markdown",
      "source": [
        "In order to combat these issues faced  by training a Convolutional Neural Network (CNN) from scratch, I will utilize a pre-trained CNN to retrain my data on (transfer learning)."
      ],
      "metadata": {
        "id": "Fm2vepOlX1BN"
      }
    },
    {
      "cell_type": "markdown",
      "source": [
        "# Transfer Learning"
      ],
      "metadata": {
        "id": "bj81vw8TYCKy"
      }
    },
    {
      "cell_type": "code",
      "source": [
        "from keras.applications import MobileNetV2"
      ],
      "metadata": {
        "id": "Hmzf3CkfYFal"
      },
      "execution_count": 27,
      "outputs": []
    },
    {
      "cell_type": "code",
      "source": [
        "conv_base = MobileNetV2(weights='imagenet',\n",
        "                     include_top=False,\n",
        "                     input_shape=(150,150,3))\n",
        "conv_base.trainable = False"
      ],
      "metadata": {
        "colab": {
          "base_uri": "https://localhost:8080/"
        },
        "id": "oRjpBIwDU2PB",
        "outputId": "cfe9586a-58ae-46df-931e-40658b5b33dd"
      },
      "execution_count": 28,
      "outputs": [
        {
          "output_type": "stream",
          "name": "stderr",
          "text": [
            "WARNING:tensorflow:`input_shape` is undefined or non-square, or `rows` is not in [96, 128, 160, 192, 224]. Weights for input shape (224, 224) will be loaded as the default.\n"
          ]
        }
      ]
    },
    {
      "cell_type": "code",
      "source": [
        "model = models.Sequential()\n",
        "model.add(conv_base)\n",
        "model.add(layers.GlobalAveragePooling2D())\n",
        "model.add(layers.Dense(256, activation='relu'))\n",
        "model.add(layers.Dropout(0.1))\n",
        "model.add(layers.Dense(256, activation='relu'))\n",
        "model.add(layers.Dropout(0.1))\n",
        "model.add(layers.Dense(num_classes, activation='softmax'))\n",
        "model.summary()"
      ],
      "metadata": {
        "colab": {
          "base_uri": "https://localhost:8080/"
        },
        "id": "SX_rrt9FWDQQ",
        "outputId": "52cb8aa2-1abd-4a5f-cc5c-7fe6a73e55bc"
      },
      "execution_count": 29,
      "outputs": [
        {
          "output_type": "stream",
          "name": "stdout",
          "text": [
            "Model: \"sequential_2\"\n",
            "_________________________________________________________________\n",
            " Layer (type)                Output Shape              Param #   \n",
            "=================================================================\n",
            " mobilenetv2_1.00_224 (Funct  (None, 5, 5, 1280)       2257984   \n",
            " ional)                                                          \n",
            "                                                                 \n",
            " global_average_pooling2d_2   (None, 1280)             0         \n",
            " (GlobalAveragePooling2D)                                        \n",
            "                                                                 \n",
            " dense_6 (Dense)             (None, 256)               327936    \n",
            "                                                                 \n",
            " dropout_4 (Dropout)         (None, 256)               0         \n",
            "                                                                 \n",
            " dense_7 (Dense)             (None, 256)               65792     \n",
            "                                                                 \n",
            " dropout_5 (Dropout)         (None, 256)               0         \n",
            "                                                                 \n",
            " dense_8 (Dense)             (None, 100)               25700     \n",
            "                                                                 \n",
            "=================================================================\n",
            "Total params: 2,677,412\n",
            "Trainable params: 419,428\n",
            "Non-trainable params: 2,257,984\n",
            "_________________________________________________________________\n"
          ]
        }
      ]
    },
    {
      "cell_type": "code",
      "source": [
        "train_gen = ImageDataGenerator(\n",
        "    rescale=1./255,\n",
        "    rotation_range=40,\n",
        "    width_shift_range=0.2,\n",
        "    height_shift_range=0.2,\n",
        "    shear_range=0.2,\n",
        "    zoom_range=0.2,\n",
        "    horizontal_flip=True,\n",
        ")\n",
        "\n",
        "test_gen = ImageDataGenerator(rescale=1./255)\n",
        "\n",
        "train = train_gen.flow_from_directory(\n",
        "    train_path,\n",
        "    target_size=(150,150),\n",
        "    batch_size=64,\n",
        "    class_mode='categorical'\n",
        ")\n",
        "\n",
        "test = test_gen.flow_from_directory(\n",
        "    test_path,\n",
        "    target_size=(150,150),\n",
        "    batch_size=64,\n",
        "    class_mode='categorical'\n",
        ")\n",
        "\n",
        "validation = test_gen.flow_from_directory(\n",
        "    val_path,\n",
        "    target_size=(150,150),\n",
        "    batch_size=64,\n",
        "    class_mode='categorical'\n",
        ")"
      ],
      "metadata": {
        "colab": {
          "base_uri": "https://localhost:8080/"
        },
        "id": "yHl_FEmdZ5OB",
        "outputId": "e2cfb3ab-9fc9-49ca-b311-a9de0afdc3f3"
      },
      "execution_count": 30,
      "outputs": [
        {
          "output_type": "stream",
          "name": "stdout",
          "text": [
            "Found 13572 images belonging to 100 classes.\n",
            "Found 500 images belonging to 100 classes.\n",
            "Found 500 images belonging to 100 classes.\n"
          ]
        }
      ]
    },
    {
      "cell_type": "code",
      "source": [
        "model.compile(\n",
        "    loss='categorical_crossentropy',\n",
        "    optimizer='adam',\n",
        "    metrics=['acc']   \n",
        ")"
      ],
      "metadata": {
        "id": "fvSkQHIob-sD"
      },
      "execution_count": 31,
      "outputs": []
    },
    {
      "cell_type": "code",
      "source": [
        "history = model.fit(\n",
        "    train,\n",
        "    steps_per_epoch=100,\n",
        "    epochs=20,\n",
        "    validation_data=validation\n",
        ")"
      ],
      "metadata": {
        "colab": {
          "base_uri": "https://localhost:8080/"
        },
        "id": "5r4bGzBAcmrG",
        "outputId": "deb46ca8-9e5e-4d4a-f6ad-0a1aa34972d1"
      },
      "execution_count": 32,
      "outputs": [
        {
          "output_type": "stream",
          "name": "stdout",
          "text": [
            "Epoch 1/20\n",
            "100/100 [==============================] - 46s 433ms/step - loss: 4.0402 - acc: 0.0994 - val_loss: 2.7230 - val_acc: 0.3480\n",
            "Epoch 2/20\n",
            "100/100 [==============================] - 42s 424ms/step - loss: 2.6979 - acc: 0.3110 - val_loss: 1.7375 - val_acc: 0.5260\n",
            "Epoch 3/20\n",
            "100/100 [==============================] - 42s 424ms/step - loss: 2.2184 - acc: 0.4164 - val_loss: 1.4773 - val_acc: 0.5860\n",
            "Epoch 4/20\n",
            "100/100 [==============================] - 42s 423ms/step - loss: 2.0981 - acc: 0.4438 - val_loss: 1.2934 - val_acc: 0.6300\n",
            "Epoch 5/20\n",
            "100/100 [==============================] - 43s 428ms/step - loss: 1.8809 - acc: 0.4884 - val_loss: 1.1723 - val_acc: 0.6540\n",
            "Epoch 6/20\n",
            "100/100 [==============================] - 42s 424ms/step - loss: 1.7927 - acc: 0.5030 - val_loss: 1.1542 - val_acc: 0.6600\n",
            "Epoch 7/20\n",
            "100/100 [==============================] - 43s 426ms/step - loss: 1.7042 - acc: 0.5303 - val_loss: 1.1456 - val_acc: 0.6520\n",
            "Epoch 8/20\n",
            "100/100 [==============================] - 42s 424ms/step - loss: 1.6825 - acc: 0.5399 - val_loss: 0.9885 - val_acc: 0.7040\n",
            "Epoch 9/20\n",
            "100/100 [==============================] - 42s 424ms/step - loss: 1.5864 - acc: 0.5560 - val_loss: 0.9933 - val_acc: 0.7040\n",
            "Epoch 10/20\n",
            "100/100 [==============================] - 42s 424ms/step - loss: 1.5926 - acc: 0.5481 - val_loss: 0.9529 - val_acc: 0.7060\n",
            "Epoch 11/20\n",
            "100/100 [==============================] - 43s 428ms/step - loss: 1.5285 - acc: 0.5717 - val_loss: 0.9091 - val_acc: 0.7200\n",
            "Epoch 12/20\n",
            "100/100 [==============================] - 43s 427ms/step - loss: 1.4910 - acc: 0.5883 - val_loss: 0.8681 - val_acc: 0.7500\n",
            "Epoch 13/20\n",
            "100/100 [==============================] - 43s 430ms/step - loss: 1.4617 - acc: 0.5928 - val_loss: 0.9078 - val_acc: 0.7280\n",
            "Epoch 14/20\n",
            "100/100 [==============================] - 43s 425ms/step - loss: 1.4356 - acc: 0.5940 - val_loss: 0.8981 - val_acc: 0.7300\n",
            "Epoch 15/20\n",
            "100/100 [==============================] - 42s 424ms/step - loss: 1.4183 - acc: 0.6052 - val_loss: 0.8594 - val_acc: 0.7340\n",
            "Epoch 16/20\n",
            "100/100 [==============================] - 43s 428ms/step - loss: 1.4025 - acc: 0.6084 - val_loss: 0.8197 - val_acc: 0.7660\n",
            "Epoch 17/20\n",
            "100/100 [==============================] - 42s 424ms/step - loss: 1.3492 - acc: 0.6218 - val_loss: 0.7795 - val_acc: 0.7580\n",
            "Epoch 18/20\n",
            "100/100 [==============================] - 43s 427ms/step - loss: 1.3685 - acc: 0.6202 - val_loss: 0.8320 - val_acc: 0.7460\n",
            "Epoch 19/20\n",
            "100/100 [==============================] - 43s 429ms/step - loss: 1.3395 - acc: 0.6187 - val_loss: 0.7942 - val_acc: 0.7620\n",
            "Epoch 20/20\n",
            "100/100 [==============================] - 42s 424ms/step - loss: 1.3395 - acc: 0.6174 - val_loss: 0.7737 - val_acc: 0.7660\n"
          ]
        }
      ]
    },
    {
      "cell_type": "code",
      "source": [
        "valAcc = round(history.history['val_acc'][-1] * 100, 2)\n",
        "print('Validation Accuracy: {}%'.format(valAcc))"
      ],
      "metadata": {
        "colab": {
          "base_uri": "https://localhost:8080/"
        },
        "id": "9nZM8iHS_aKj",
        "outputId": "607b5686-6331-4d50-e83f-89c7e047fc16"
      },
      "execution_count": 33,
      "outputs": [
        {
          "output_type": "stream",
          "name": "stdout",
          "text": [
            "Validation Accuracy: 76.6%\n"
          ]
        }
      ]
    },
    {
      "cell_type": "code",
      "source": [
        "acc = history.history['acc']\n",
        "val_acc = history.history['val_acc']\n",
        "loss = history.history['loss']\n",
        "val_loss = history.history['val_loss']\n",
        "\n",
        "epochs = range(1, len(acc) + 1)\n",
        "\n",
        "plt.plot(epochs, acc, 'bo', label='Training Accuracy')\n",
        "plt.plot(epochs, val_acc, 'b', label='Validation Accuracy')\n",
        "plt.xlabel('epochs')\n",
        "plt.ylabel('accuracy')\n",
        "plt.title('Training and Validation Accuracy')\n",
        "plt.legend()\n",
        "\n",
        "plt.figure()\n",
        "\n",
        "plt.plot(epochs, loss, 'bo', label='Training Loss')\n",
        "plt.plot(epochs, val_loss, 'b', label='Validation Loss')\n",
        "plt.xlabel('epochs')\n",
        "plt.ylabel('loss')\n",
        "plt.title('Training and Validation Loss')\n",
        "plt.legend()\n",
        "\n",
        "plt.show()"
      ],
      "metadata": {
        "colab": {
          "base_uri": "https://localhost:8080/",
          "height": 573
        },
        "id": "KsVtWNPu_EGF",
        "outputId": "c265039f-1695-4217-f610-fbb4f44874f5"
      },
      "execution_count": 34,
      "outputs": [
        {
          "output_type": "display_data",
          "data": {
            "text/plain": [
              "<Figure size 432x288 with 1 Axes>"
            ],
            "image/png": "[encoded data removed]"
          },
          "metadata": {
            "needs_background": "light"
          }
        },
        {
          "output_type": "display_data",
          "data": {
            "text/plain": [
              "<Figure size 432x288 with 1 Axes>"
            ],
            "image/png": "[encoded data removed]"
          },
          "metadata": {
            "needs_background": "light"
          }
        }
      ]
    },
    {
      "cell_type": "code",
      "source": [
        "eval = model.evaluate(test)[-1]\n",
        "final = round(eval * 100, 2)\n",
        "print('Testing Accuracy: {}%'.format(final))"
      ],
      "metadata": {
        "colab": {
          "base_uri": "https://localhost:8080/"
        },
        "id": "8hWlvibv_T3w",
        "outputId": "ba3ebf0b-33ff-4dd2-b4aa-416ea80bc0f9"
      },
      "execution_count": 35,
      "outputs": [
        {
          "output_type": "stream",
          "name": "stdout",
          "text": [
            "8/8 [==============================] - 1s 136ms/step - loss: 0.7371 - acc: 0.7800\n",
            "Testing Accuracy: 78.0%\n"
          ]
        }
      ]
    }
  ]
}